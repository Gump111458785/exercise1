{
 "cells": [
  {
   "cell_type": "markdown",
   "metadata": {},
   "source": [
    "#                                           numpy 练习题"
   ]
  },
  {
   "cell_type": "markdown",
   "metadata": {
    "collapsed": true,
    "jupyter": {
     "outputs_hidden": true
    }
   },
   "source": [
    " "
   ]
  },
  {
   "cell_type": "markdown",
   "metadata": {},
   "source": [
    "### numpy 的array操作"
   ]
  },
  {
   "cell_type": "markdown",
   "metadata": {},
   "source": [
    "#### 1.导入numpy库"
   ]
  },
  {
   "cell_type": "code",
   "execution_count": null,
   "metadata": {},
   "outputs": [],
   "source": [
    "import numpy as np"
   ]
  },
  {
   "cell_type": "markdown",
   "metadata": {},
   "source": [
    "#### 2.建立一个一维数组 a 初始化为[4,5,6], (1)输出a 的类型（type）(2)输出a的各维度的大小（shape）(3)输出 a的第一个元素（值为4）"
   ]
  },
  {
   "cell_type": "code",
   "execution_count": null,
   "metadata": {
    "collapsed": true,
    "jupyter": {
     "outputs_hidden": true
    }
   },
   "outputs": [],
   "source": [
    "import numpy as np\n",
    "a = np.array([4, 5, 6])\n",
    "# (1) 输出a的类型\n",
    "print(type(a))  # <class 'numpy.ndarray'>\n",
    "\n",
    "# (2) 输出a的各维度的大小\n",
    "print(a.shape)  # (3,)\n",
    "\n",
    "# (3) 输出a的第一个元素（值为4）\n",
    "print(a[0])  # 4"
   ]
  },
  {
   "cell_type": "markdown",
   "metadata": {},
   "source": [
    "#### 3.建立一个二维数组 b,初始化为 [ [4, 5, 6],[1, 2, 3]] (1)输出各维度的大小（shape）(2)输出 b(0,0)，b(0,1),b(1,1) 这三个元素（对应值分别为4,5,2）"
   ]
  },
  {
   "cell_type": "code",
   "execution_count": null,
   "metadata": {
    "collapsed": true,
    "jupyter": {
     "outputs_hidden": true
    }
   },
   "outputs": [],
   "source": [
    "import numpy as np\n",
    "# 初始化二维数组\n",
    "b = np.array([[4, 5, 6], [1, 2, 3]])\n",
    "\n",
    "# (1) 输出b的各维度的大小\n",
    "print(b.shape)  # (2, 3)\n",
    "\n",
    "# (2) 输出b(0,0), b(0,1), b(1,1) 这三个元素\n",
    "print(b[0, 0])  # 4\n",
    "print(b[0, 1])  # 5\n",
    "print(b[1, 1])  # 2"
   ]
  },
  {
   "cell_type": "markdown",
   "metadata": {},
   "source": [
    "#### 4.  (1)建立一个全0矩阵 a, 大小为 3x3; 类型为整型（提示: dtype = int）(2)建立一个全1矩阵b,大小为4x5;  (3)建立一个单位矩阵c ,大小为4x4; (4)生成一个随机数矩阵d,大小为 3x2."
   ]
  },
  {
   "cell_type": "code",
   "execution_count": null,
   "metadata": {
    "collapsed": true,
    "jupyter": {
     "outputs_hidden": true
    }
   },
   "outputs": [],
   "source": [
    "import numpy as np\n",
    "# (1) 建立一个全0矩阵 a, 大小为 3x3，类型为整型\n",
    "a = np.zeros((3, 3), dtype=int)\n",
    "print(\"矩阵 a (全0矩阵):\")\n",
    "print(a)  # 输出全0矩阵 a\n",
    "# 输出：\n",
    "# [[0 0 0]\n",
    "#  [0 0 0]\n",
    "#  [0 0 0]]\n",
    "\n",
    "# (2) 建立一个全1矩阵 b, 大小为 4x5\n",
    "b = np.ones((4, 5))\n",
    "print(\"\\n矩阵 b (全1矩阵):\")\n",
    "print(b)  # 输出全1矩阵 b\n",
    "# 输出：\n",
    "# [[1. 1. 1. 1. 1.]\n",
    "#  [1. 1. 1. 1. 1.]\n",
    "#  [1. 1. 1. 1. 1.]\n",
    "#  [1. 1. 1. 1. 1.]]\n",
    "\n",
    "# (3) 建立一个单位矩阵 c, 大小为 4x4\n",
    "c = np.eye(4)\n",
    "print(\"\\n矩阵 c (单位矩阵):\")\n",
    "print(c)  # 输出单位矩阵 c\n",
    "# 输出：\n",
    "# [[1. 0. 0. 0.]\n",
    "#  [0. 1. 0. 0.]\n",
    "#  [0. 0. 1. 0.]\n",
    "#  [0. 0. 0. 1.]]\n",
    "\n",
    "# (4) 生成一个随机数矩阵 d, 大小为 3x2\n",
    "d = np.random.random((3, 2))\n",
    "print(\"\\n矩阵 d (随机数矩阵):\")\n",
    "print(d)  # 输出随机数矩阵 d\n",
    "# 输出（每次运行时会有所不同）：\n",
    "# [[0.43615685 0.88761878]\n",
    "#  [0.81361149 0.56754221]\n",
    "#  [0.12459223 0.43854604]]"
   ]
  },
  {
   "cell_type": "markdown",
   "metadata": {},
   "source": [
    "#### 5. 建立一个数组 a,(值为[[1, 2, 3, 4], [5, 6, 7, 8], [9, 10, 11, 12]] ) ,(1)打印a; (2)输出  下标为(2,3),(0,0) 这两个数组元素的值"
   ]
  },
  {
   "cell_type": "code",
   "execution_count": null,
   "metadata": {
    "collapsed": true,
    "jupyter": {
     "outputs_hidden": true
    }
   },
   "outputs": [],
   "source": [
    "import numpy as np\n",
    "# 建立数组 a\n",
    "a = np.array([[1, 2, 3, 4], [5, 6, 7, 8], [9, 10, 11, 12]])\n",
    "\n",
    "# (1) 打印数组 a\n",
    "print(\"数组 a:\")\n",
    "print(a)  # 输出整个数组 a\n",
    "# 输出：\n",
    "# [[ 1  2  3  4]\n",
    "#  [ 5  6  7  8]\n",
    "#  [ 9 10 11 12]]\n",
    "\n",
    "# (2) 输出下标为 (2, 3) 和 (0, 0) 的数组元素的值\n",
    "print(\"\\n下标 (2, 3) 的元素值:\", a[2, 3])  # 输出元素 12\n",
    "print(\"下标 (0, 0) 的元素值:\", a[0, 0])  # 输出元素 1"
   ]
  },
  {
   "cell_type": "markdown",
   "metadata": {},
   "source": [
    "#### 6.把上一题的 a数组的 0到1行 2到3列，放到b里面去，（此处不需要从新建立a,直接调用即可）(1),输出b;(2) 输出b 的（0,0）这个元素的值"
   ]
  },
  {
   "cell_type": "code",
   "execution_count": null,
   "metadata": {
    "collapsed": true,
    "jupyter": {
     "outputs_hidden": true
    }
   },
   "outputs": [],
   "source": [
    "import numpy as np\n",
    "\n",
    "# 已经有了数组 a\n",
    "a = np.array([[1, 2, 3, 4], [5, 6, 7, 8], [9, 10, 11, 12]])\n",
    "\n",
    "# (1) 提取 a 数组的 0 到 1 行，2 到 3 列，放到 b 里面\n",
    "b = a[0:2, 2:4]\n",
    "\n",
    "# 输出 b\n",
    "print(\"数组 b:\")\n",
    "print(b)  # 输出提取后的数组 b\n",
    "# 输出：\n",
    "# [[3 4]\n",
    "#  [7 8]]\n",
    "\n",
    "# (2) 输出 b 的 (0, 0) 这个元素的值\n",
    "print(\"\\nb 的 (0, 0) 元素值:\", b[0, 0])  # 输出元素 3\n"
   ]
  },
  {
   "cell_type": "markdown",
   "metadata": {},
   "source": [
    " #### 7. 把第5题中数组a的最后两行所有元素放到 c中，（提示： a[1:2, :]）(1)输出 c ; (2) 输出 c 中第一行的最后一个元素（提示，使用 -1                 表示最后一个元素）"
   ]
  },
  {
   "cell_type": "code",
   "execution_count": null,
   "metadata": {
    "collapsed": true,
    "jupyter": {
     "outputs_hidden": true
    }
   },
   "outputs": [],
   "source": [
    "import numpy as np\n",
    "\n",
    "# 已经有了数组 a\n",
    "a = np.array([[1, 2, 3, 4], [5, 6, 7, 8], [9, 10, 11, 12]])\n",
    "\n",
    "# (1) 提取 a 数组的最后两行所有元素放到 c 中\n",
    "c = a[1:3, :]  # 从第 1 行到第 2 行（包含），所有列\n",
    "\n",
    "# 输出 c\n",
    "print(\"数组 c:\")\n",
    "print(c)  # 输出提取后的数组 c\n",
    "# 输出：\n",
    "# [[ 5  6  7  8]\n",
    "#  [ 9 10 11 12]]\n",
    "\n",
    "# (2) 输出 c 中第一行的最后一个元素\n",
    "print(\"\\nc 中第一行的最后一个元素:\", c[0, -1])  # 使用 -1 表示最后一个元素，输出 8\n"
   ]
  },
  {
   "cell_type": "markdown",
   "metadata": {},
   "source": [
    "#### 8.建立数组a,初始化a为[[1, 2], [3, 4], [5, 6]]，输出 （0,0）（1,1）（2,0）这三个元素（提示： 使用 print(a[[0, 1, 2], [0, 1, 0]]) ）"
   ]
  },
  {
   "cell_type": "code",
   "execution_count": null,
   "metadata": {
    "collapsed": true,
    "jupyter": {
     "outputs_hidden": true
    }
   },
   "outputs": [],
   "source": [
    "import numpy as np\n",
    "\n",
    "# 初始化数组 a\n",
    "a = np.array([[1, 2], [3, 4], [5, 6]])\n",
    "\n",
    "# 使用给定的方式输出指定元素\n",
    "print(a[[0, 1, 2], [0, 1, 0]])  \n",
    "# 输出：[1 4 5]\n"
   ]
  },
  {
   "cell_type": "markdown",
   "metadata": {},
   "source": [
    "#### 9.建立矩阵a ,初始化为[[1, 2, 3], [4, 5, 6], [7, 8, 9], [10, 11, 12]]，输出(0,0),(1,2),(2,0),(3,1) (提示使用 b = np.array([0, 2, 0, 1])                     print(a[np.arange(4), b]))"
   ]
  },
  {
   "cell_type": "code",
   "execution_count": null,
   "metadata": {
    "collapsed": true,
    "jupyter": {
     "outputs_hidden": true
    }
   },
   "outputs": [],
   "source": [
    "import numpy as np\n",
    "\n",
    "# 初始化矩阵 a\n",
    "a = np.array([[1, 2, 3], [4, 5, 6], [7, 8, 9], [10, 11, 12]])\n",
    "\n",
    "# 使用给定的方式提取指定元素\n",
    "b = np.array([0, 2, 0, 1])\n",
    "print(a[np.arange(4), b])  \n",
    "# 输出：[ 1  6  7 11]\n"
   ]
  },
  {
   "cell_type": "markdown",
   "metadata": {},
   "source": [
    "#### 10.对9 中输出的那四个元素，每个都加上10，然后重新输出矩阵a.(提示： a[np.arange(4), b] += 10 ）"
   ]
  },
  {
   "cell_type": "code",
   "execution_count": null,
   "metadata": {
    "collapsed": true,
    "jupyter": {
     "outputs_hidden": true
    }
   },
   "outputs": [],
   "source": [
    "import numpy as np\n",
    "\n",
    "# 初始化矩阵 a\n",
    "a = np.array([[1, 2, 3], [4, 5, 6], [7, 8, 9], [10, 11, 12]])\n",
    "\n",
    "# 使用给定的方式提取指定元素并加上 10\n",
    "b = np.array([0, 2, 0, 1])\n",
    "a[np.arange(4), b] += 10\n",
    "\n",
    "# 重新输出矩阵 a\n",
    "print(\"重新输出矩阵 a:\")\n",
    "print(a)\n",
    "# 输出：\n",
    "# [[11  2  3]\n",
    "#  [ 4  5 16]\n",
    "#  [17  8  9]\n",
    "#  [10 21 12]]\n"
   ]
  },
  {
   "cell_type": "markdown",
   "metadata": {},
   "source": [
    "### array 的数学运算"
   ]
  },
  {
   "cell_type": "markdown",
   "metadata": {},
   "source": [
    "#### 11.  执行 x = np.array([1, 2])，然后输出 x 的数据类型"
   ]
  },
  {
   "cell_type": "code",
   "execution_count": null,
   "metadata": {
    "collapsed": true,
    "jupyter": {
     "outputs_hidden": true
    }
   },
   "outputs": [],
   "source": [
    "import numpy as np\n",
    "\n",
    "# 创建数组 x\n",
    "x = np.array([1, 2])\n",
    "\n",
    "# 输出 x 的数据类型\n",
    "print(\"x 的数据类型:\", x.dtype)  \n",
    "# 输出：\n",
    "# x 的数据类型: int64\n"
   ]
  },
  {
   "cell_type": "markdown",
   "metadata": {},
   "source": [
    "#### 12.执行 x = np.array([1.0, 2.0]) ，然后输出 x 的数据类类型"
   ]
  },
  {
   "cell_type": "code",
   "execution_count": null,
   "metadata": {
    "collapsed": true,
    "jupyter": {
     "outputs_hidden": true
    }
   },
   "outputs": [],
   "source": [
    "import numpy as np\n",
    "\n",
    "# 创建数组 x\n",
    "x = np.array([1.0, 2.0])\n",
    "\n",
    "# 输出 x 的数据类型\n",
    "print(\"x 的数据类型:\", x.dtype)  \n",
    "# 输出：\n",
    "# x 的数据类型: float64\n"
   ]
  },
  {
   "cell_type": "markdown",
   "metadata": {},
   "source": [
    "#### 13.执行 x = np.array([[1, 2], [3, 4]], dtype=np.float64) ，y = np.array([[5, 6], [7, 8]], dtype=np.float64)，然后输出 x+y ,和 np.add(x,y)"
   ]
  },
  {
   "cell_type": "code",
   "execution_count": null,
   "metadata": {
    "collapsed": true,
    "jupyter": {
     "outputs_hidden": true
    }
   },
   "outputs": [],
   "source": [
    "import numpy as np\n",
    "\n",
    "# 创建数组 x 和 y\n",
    "x = np.array([[1, 2], [3, 4]], dtype=np.float64)\n",
    "y = np.array([[5, 6], [7, 8]], dtype=np.float64)\n",
    "\n",
    "# 输出 x + y\n",
    "print(\"x + y:\")\n",
    "print(x + y)  # 输出：[[ 6.  8.], [10. 12.]]\n",
    "\n",
    "# 输出 np.add(x, y)\n",
    "print(\"\\nnp.add(x, y):\")\n",
    "print(np.add(x, y))  # 输出：[[ 6.  8.], [10. 12.]]\n",
    "\n"
   ]
  },
  {
   "cell_type": "markdown",
   "metadata": {},
   "source": [
    "#### 14. 利用 13题目中的x,y 输出 x-y 和 np.subtract(x,y)"
   ]
  },
  {
   "cell_type": "code",
   "execution_count": null,
   "metadata": {
    "collapsed": true,
    "jupyter": {
     "outputs_hidden": true
    }
   },
   "outputs": [],
   "source": [
    "import numpy as np\n",
    "\n",
    "# 创建数组 x 和 y\n",
    "x = np.array([[1, 2], [3, 4]], dtype=np.float64)\n",
    "y = np.array([[5, 6], [7, 8]], dtype=np.float64)\n",
    "\n",
    "# 输出 x - y\n",
    "print(\"x - y:\")\n",
    "print(x - y)  # 输出：[[-4. -4.], [-4. -4.]]\n",
    "\n",
    "# 输出 np.subtract(x, y)\n",
    "print(\"\\nnp.subtract(x, y):\")\n",
    "print(np.subtract(x, y))  # 输出：[[-4. -4.], [-4. -4.]]\n"
   ]
  },
  {
   "cell_type": "markdown",
   "metadata": {},
   "source": [
    "#### 15. 利用13题目中的x，y 输出 x*y ,和 np.multiply(x, y) 还有  np.dot(x,y),比较差异。然后自己换一个不是方阵的试试。"
   ]
  },
  {
   "cell_type": "code",
   "execution_count": null,
   "metadata": {
    "collapsed": true,
    "jupyter": {
     "outputs_hidden": true
    }
   },
   "outputs": [],
   "source": [
    "import numpy as np\n",
    "\n",
    "# 创建数组 x 和 y\n",
    "x = np.array([[1, 2], [3, 4]], dtype=np.float64)\n",
    "y = np.array([[5, 6], [7, 8]], dtype=np.float64)\n",
    "\n",
    "# 输出 x * y\n",
    "print(\"x * y (元素级乘法):\")\n",
    "print(x * y)  # 输出元素级乘法：[[ 5. 12.], [21. 32.]]\n",
    "\n",
    "# 输出 np.multiply(x, y)\n",
    "print(\"\\nnp.multiply(x, y) (元素级乘法):\")\n",
    "print(np.multiply(x, y))  # 输出元素级乘法：[[ 5. 12.], [21. 32.]]\n",
    "\n",
    "# 输出 np.dot(x, y)\n",
    "print(\"\\nnp.dot(x, y) (矩阵乘法):\")\n",
    "print(np.dot(x, y))  # 输出矩阵乘法：[[19. 22.], [43. 50.]]\n",
    "\n",
    "# 换一个不是方阵的数组\n",
    "a = np.array([[1, 2, 3], [4, 5, 6]], dtype=np.float64)\n",
    "b = np.array([[7, 8], [9, 10], [11, 12]], dtype=np.float64)\n",
    "\n",
    "# 输出 a * b (元素级乘法)\n",
    "print(\"\\na * b (元素级乘法):\")\n",
    "print(np.multiply(a, b))  # 输出元素级乘法，必须确保a和b维度相同，才能避免报错\n",
    "\n",
    "# 输出 np.dot(a, b) (矩阵乘法)\n",
    "print(\"\\nnp.dot(a, b) (矩阵乘法):\")\n",
    "print(np.dot(a, b))  # 矩阵乘法：[[ 58.  64.], [139. 154.]]\n"
   ]
  },
  {
   "cell_type": "markdown",
   "metadata": {},
   "source": [
    "#### 16. 利用13题目中的x,y,输出 x / y .(提示 ： 使用函数 np.divide())"
   ]
  },
  {
   "cell_type": "code",
   "execution_count": null,
   "metadata": {},
   "outputs": [],
   "source": [
    "import numpy as np\n",
    "\n",
    "# 创建数组 x 和 y\n",
    "x = np.array([[1, 2], [3, 4]], dtype=np.float64)\n",
    "y = np.array([[5, 6], [7, 8]], dtype=np.float64)\n",
    "\n",
    "# 输出 x / y\n",
    "print(\"x / y (元素级除法):\")\n",
    "print(x / y)  # 输出：[[0.2        0.33333333], [0.42857143 0.5       ]]\n",
    "\n",
    "# 输出 np.divide(x, y)\n",
    "print(\"\\nnp.divide(x, y) (元素级除法):\")\n",
    "print(np.divide(x, y))  # 输出：[[0.2        0.33333333], [0.42857143 0.5       ]]\n"
   ]
  },
  {
   "cell_type": "markdown",
   "metadata": {},
   "source": [
    "#### 17. 利用13题目中的x,输出 x的 开方。(提示： 使用函数 np.sqrt() )"
   ]
  },
  {
   "cell_type": "code",
   "execution_count": null,
   "metadata": {
    "collapsed": true,
    "jupyter": {
     "outputs_hidden": true
    }
   },
   "outputs": [],
   "source": [
    "import numpy as np\n",
    "\n",
    "# 创建数组 x\n",
    "x = np.array([[1, 2], [3, 4]], dtype=np.float64)\n",
    "\n",
    "# 输出 x 的开方\n",
    "print(\"x 的开方:\")\n",
    "print(np.sqrt(x))  # 输出：[[1.         1.41421356], [1.73205081 2.        ]]\n"
   ]
  },
  {
   "cell_type": "markdown",
   "metadata": {},
   "source": [
    "#### 18.利用13题目中的x,y ,执行 print(x.dot(y)) 和 print(np.dot(x,y))"
   ]
  },
  {
   "cell_type": "code",
   "execution_count": null,
   "metadata": {
    "collapsed": true,
    "jupyter": {
     "outputs_hidden": true
    }
   },
   "outputs": [],
   "source": [
    "import numpy as np\n",
    "\n",
    "# 创建数组 x 和 y\n",
    "x = np.array([[1, 2], [3, 4]], dtype=np.float64)\n",
    "y = np.array([[5, 6], [7, 8]], dtype=np.float64)\n",
    "\n",
    "# 输出 x.dot(y)\n",
    "print(\"x.dot(y):\")\n",
    "print(x.dot(y))  # 矩阵乘法：[[19. 22.], [43. 50.]]\n",
    "\n",
    "# 输出 np.dot(x, y)\n",
    "print(\"\\nnp.dot(x, y):\")\n",
    "print(np.dot(x, y))  # 矩阵乘法：[[19. 22.], [43. 50.]]\n"
   ]
  },
  {
   "cell_type": "markdown",
   "metadata": {},
   "source": [
    "##### 19.利用13题目中的 x,进行求和。提示：输出三种求和 (1)print(np.sum(x)):   (2)print(np.sum(x，axis =0 ));   (3)print(np.sum(x,axis = 1))"
   ]
  },
  {
   "cell_type": "code",
   "execution_count": null,
   "metadata": {
    "collapsed": true,
    "jupyter": {
     "outputs_hidden": true
    }
   },
   "outputs": [],
   "source": [
    "import numpy as np\n",
    "\n",
    "# 创建数组 x\n",
    "x = np.array([[1, 2], [3, 4]], dtype=np.float64)\n",
    "\n",
    "# 求和操作\n",
    "# (1) 输出 np.sum(x) 的总和\n",
    "print(\"np.sum(x):\")\n",
    "print(np.sum(x))  # 输出总和：10\n",
    "\n",
    "# (2) 输出 np.sum(x, axis=0) 按列求和\n",
    "print(\"\\nnp.sum(x, axis=0):\")\n",
    "print(np.sum(x, axis=0))  # 输出按列求和：[4. 6.]\n",
    "\n",
    "# (3) 输出 np.sum(x, axis=1) 按行求和\n",
    "print(\"\\nnp.sum(x, axis=1):\")\n",
    "print(np.sum(x, axis=1))  # 输出按行求和：[3. 7.]\n"
   ]
  },
  {
   "cell_type": "markdown",
   "metadata": {},
   "source": [
    "#### 20.利用13题目中的 x,进行求平均数（提示：输出三种平均数(1)print(np.mean(x)) (2)print(np.mean(x,axis = 0))(3) print(np.mean(x,axis =1))）"
   ]
  },
  {
   "cell_type": "code",
   "execution_count": null,
   "metadata": {
    "collapsed": true,
    "jupyter": {
     "outputs_hidden": true
    }
   },
   "outputs": [],
   "source": [
    "import numpy as np\n",
    "\n",
    "# 创建数组 x\n",
    "x = np.array([[1, 2], [3, 4]], dtype=np.float64)\n",
    "\n",
    "# 求平均数操作\n",
    "# (1) 输出 np.mean(x) 的总体平均数\n",
    "print(\"np.mean(x):\")\n",
    "print(np.mean(x))  # 输出总体平均数：2.5\n",
    "\n",
    "# (2) 输出 np.mean(x, axis=0) 按列求平均数\n",
    "print(\"\\nnp.mean(x, axis=0):\")\n",
    "print(np.mean(x, axis=0))  # 输出按列平均数：[2. 3.]\n",
    "\n",
    "# (3) 输出 np.mean(x, axis=1) 按行求平均数\n",
    "print(\"\\nnp.mean(x, axis=1):\")\n",
    "print(np.mean(x, axis=1))  # 输出按行平均数：[1.5 3.5]\n"
   ]
  },
  {
   "cell_type": "markdown",
   "metadata": {},
   "source": [
    "#### 21.利用13题目中的x，对x 进行矩阵转置，然后输出转置后的结果，（提示： x.T 表示对 x 的转置）"
   ]
  },
  {
   "cell_type": "code",
   "execution_count": null,
   "metadata": {
    "collapsed": true,
    "jupyter": {
     "outputs_hidden": true
    }
   },
   "outputs": [],
   "source": [
    "import numpy as np\n",
    "\n",
    "# 创建数组 x\n",
    "x = np.array([[1, 2], [3, 4]], dtype=np.float64)\n",
    "\n",
    "# 输出 x 的转置\n",
    "print(\"x 的转置:\")\n",
    "print(x.T)  # 输出转置后的矩阵：[[1. 3.], [2. 4.]]\n"
   ]
  },
  {
   "cell_type": "markdown",
   "metadata": {
    "collapsed": true,
    "jupyter": {
     "outputs_hidden": true
    }
   },
   "source": [
    "#### 22.利用13题目中的x,求e的指数（提示： 函数 np.exp()）"
   ]
  },
  {
   "cell_type": "code",
   "execution_count": null,
   "metadata": {
    "collapsed": true,
    "jupyter": {
     "outputs_hidden": true
    }
   },
   "outputs": [],
   "source": [
    "import numpy as np\n",
    "\n",
    "# 创建数组 x\n",
    "x = np.array([[1, 2], [3, 4]], dtype=np.float64)\n",
    "\n",
    "# 输出 x 的指数\n",
    "print(\"x 的指数（np.exp(x)):\")\n",
    "print(np.exp(x))  # 输出指数：[[ 2.71828183  7.3890561 ], [20.08553692 54.59815003]]\n"
   ]
  },
  {
   "cell_type": "markdown",
   "metadata": {},
   "source": [
    "#### 23.利用13题目中的 x,求值最大的下标（提示(1)print(np.argmax(x)) ,(2) print(np.argmax(x, axis =0))(3)print(np.argmax(x),axis =1))"
   ]
  },
  {
   "cell_type": "code",
   "execution_count": null,
   "metadata": {},
   "outputs": [],
   "source": [
    "import numpy as np\n",
    "\n",
    "# 创建数组 x\n",
    "x = np.array([[1, 2], [3, 4]], dtype=np.float64)\n",
    "\n",
    "# (1) 输出 np.argmax(x) 整体最大值的下标\n",
    "print(\"np.argmax(x):\")\n",
    "print(np.argmax(x))  # 输出最大值的下标：3\n",
    "\n",
    "# (2) 输出 np.argmax(x, axis=0) 按列计算最大值的下标\n",
    "print(\"\\nnp.argmax(x, axis=0):\")\n",
    "print(np.argmax(x, axis=0))  # 输出按列计算最大值的下标：[1 1]\n",
    "\n",
    "# (3) 输出 np.argmax(x, axis=1) 按行计算最大值的下标\n",
    "print(\"\\nnp.argmax(x, axis=1):\")\n",
    "print(np.argmax(x, axis=1))  # 输出按行计算最大值的下标：[1 1]\n"
   ]
  },
  {
   "cell_type": "markdown",
   "metadata": {},
   "source": [
    "#### 24,画图，y=x*x 其中 x = np.arange(0, 100, 0.1) （提示这里用到  matplotlib.pyplot 库）"
   ]
  },
  {
   "cell_type": "code",
   "execution_count": null,
   "metadata": {
    "collapsed": true,
    "jupyter": {
     "outputs_hidden": true
    }
   },
   "outputs": [],
   "source": [
    "import numpy as np\n",
    "import matplotlib.pyplot as plt\n",
    "\n",
    "# 生成 x 的数据\n",
    "x = np.arange(0, 100, 0.1)\n",
    "\n",
    "# 计算 y 的值\n",
    "y = x * x\n",
    "\n",
    "# 绘图\n",
    "plt.plot(x, y)\n",
    "plt.title(\"y = x^2\")\n",
    "plt.xlabel(\"x\")\n",
    "plt.ylabel(\"y\")\n",
    "plt.grid(True)\n",
    "plt.show()\n"
   ]
  },
  {
   "cell_type": "markdown",
   "metadata": {},
   "source": [
    "#### 25.画图。画正弦函数和余弦函数， x = np.arange(0, 3 * np.pi, 0.1)(提示：这里用到 np.sin() np.cos() 函数和 matplotlib.pyplot 库)"
   ]
  },
  {
   "cell_type": "code",
   "execution_count": null,
   "metadata": {
    "collapsed": true,
    "jupyter": {
     "outputs_hidden": true
    }
   },
   "outputs": [],
   "source": [
    "import numpy as np\n",
    "import matplotlib.pyplot as plt\n",
    "\n",
    "# 生成 x 值，范围从 0 到 3π，步长为 0.1\n",
    "x = np.arange(0, 3 * np.pi, 0.1)\n",
    "# 计算 y 值\n",
    "y_sin = np.sin(x)\n",
    "y_cos = np.cos(x)\n",
    "\n",
    "# 绘制正弦曲线\n",
    "plt.plot(x, y_sin, label=\"sin(x)\", color=\"b\")\n",
    "# 绘制余弦曲线\n",
    "plt.plot(x, y_cos, label=\"cos(x)\", color=\"r\")\n",
    "\n",
    "# 添加标题和标签\n",
    "plt.title(\"Sine and Cosine Functions\")\n",
    "plt.xlabel(\"x values\")\n",
    "plt.ylabel(\"y values\")\n",
    "\n",
    "# 添加图例\n",
    "plt.legend()\n",
    "\n",
    "# 显示图像\n",
    "plt.show()\n"
   ]
  }
 ],
 "metadata": {
  "anaconda-cloud": {},
  "kernelspec": {
   "display_name": "Python 3 (ipykernel)",
   "language": "python",
   "name": "python3"
  },
  "language_info": {
   "codemirror_mode": {
    "name": "ipython",
    "version": 3
   },
   "file_extension": ".py",
   "mimetype": "text/x-python",
   "name": "python",
   "nbconvert_exporter": "python",
   "pygments_lexer": "ipython3",
   "version": "3.12.7"
  }
 },
 "nbformat": 4,
 "nbformat_minor": 4
}

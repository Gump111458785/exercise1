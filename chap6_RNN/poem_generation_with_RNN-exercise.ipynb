{
 "cells": [
  {
   "cell_type": "markdown",
   "metadata": {},
   "source": [
    "# 诗歌生成"
   ]
  },
  {
   "cell_type": "markdown",
   "metadata": {},
   "source": [
    "# 数据处理"
   ]
  },
  {
   "cell_type": "code",
   "execution_count": 9,
   "metadata": {},
   "outputs": [],
   "source": [
    "import numpy as np\n",
    "import tensorflow as tf\n",
    "import collections\n",
    "from tensorflow import keras\n",
    "from tensorflow.keras import layers\n",
    "from tensorflow.keras import layers, optimizers, datasets\n",
    "\n",
    "start_token = 'bos'\n",
    "end_token = 'eos'\n",
    "\n",
    "def process_dataset(fileName):\n",
    "    examples = []\n",
    "    with open(fileName, 'r') as fd:\n",
    "        for line in fd:\n",
    "            outs = line.strip().split(':')\n",
    "            content = ''.join(outs[1:])\n",
    "            ins = [start_token] + list(content) + [end_token] \n",
    "            if len(ins) > 200:\n",
    "                continue\n",
    "            examples.append(ins)\n",
    "            \n",
    "    counter = collections.Counter()\n",
    "    for e in examples:\n",
    "        for w in e:\n",
    "            counter[w]+=1\n",
    "    \n",
    "    sorted_counter = sorted(counter.items(), key=lambda x: -x[1])  # 排序\n",
    "    words, _ = zip(*sorted_counter)\n",
    "    words = ('PAD', 'UNK') + words[:len(words)]\n",
    "    word2id = dict(zip(words, range(len(words))))\n",
    "    id2word = {word2id[k]:k for k in word2id}\n",
    "    \n",
    "    indexed_examples = [[word2id[w] for w in poem]\n",
    "                        for poem in examples]\n",
    "    seqlen = [len(e) for e in indexed_examples]\n",
    "    \n",
    "    instances = list(zip(indexed_examples, seqlen))\n",
    "    \n",
    "    return instances, word2id, id2word\n",
    "\n",
    "def poem_dataset():\n",
    "    instances, word2id, id2word = process_dataset('./poems.txt')\n",
    "    ds = tf.data.Dataset.from_generator(lambda: [ins for ins in instances], \n",
    "                                            (tf.int64, tf.int64), \n",
    "                                            (tf.TensorShape([None]),tf.TensorShape([])))\n",
    "    ds = ds.shuffle(buffer_size=10240)\n",
    "    ds = ds.padded_batch(100, padded_shapes=(tf.TensorShape([None]),tf.TensorShape([])))\n",
    "    ds = ds.map(lambda x, seqlen: (x[:, :-1], x[:, 1:], seqlen-1))\n",
    "    return ds, word2id, id2word"
   ]
  },
  {
   "cell_type": "markdown",
   "metadata": {},
   "source": [
    "# 模型代码， 完成建模代码"
   ]
  },
  {
   "cell_type": "code",
   "execution_count": 10,
   "metadata": {},
   "outputs": [],
   "source": [
    "class myRNNModel(keras.Model):\n",
    "    def __init__(self, w2id):\n",
    "        super(myRNNModel, self).__init__()\n",
    "        self.v_sz = len(w2id)\n",
    "        self.embed_layer = tf.keras.layers.Embedding(self.v_sz, 64, \n",
    "                                                    batch_input_shape=[None, None])\n",
    "        \n",
    "        self.rnncell = tf.keras.layers.SimpleRNNCell(128)\n",
    "        self.rnn_layer = tf.keras.layers.RNN(self.rnncell, return_sequences=True)\n",
    "        self.dense = tf.keras.layers.Dense(self.v_sz)\n",
    "        \n",
    "    @tf.function\n",
    "    def call(self, inp_ids):\n",
    "        '''\n",
    "        此处完成建模过程，可以参考Learn2Carry\n",
    "        '''\n",
    "        in_emb = self.embed_layer(inp_ids)\n",
    "        rnn_output = self.rnn_layer(in_emb)\n",
    "        logits = self.dense(rnn_output)\n",
    "        return logits\n",
    "    \n",
    "    @tf.function\n",
    "    def get_next_token(self, x, state):\n",
    "        '''\n",
    "        shape(x) = [b_sz,] \n",
    "        '''\n",
    "    \n",
    "        inp_emb = self.embed_layer(x) #shape(b_sz, emb_sz)\n",
    "        h, state = self.rnncell.call(inp_emb, state) # shape(b_sz, h_sz)\n",
    "        logits = self.dense(h) # shape(b_sz, v_sz)\n",
    "        out = tf.argmax(logits, axis=-1)\n",
    "        return out, state"
   ]
  },
  {
   "cell_type": "markdown",
   "metadata": {},
   "source": [
    "## 一个计算sequence loss的辅助函数，只需了解用途。"
   ]
  },
  {
   "cell_type": "code",
   "execution_count": 11,
   "metadata": {},
   "outputs": [],
   "source": [
    "def mkMask(input_tensor, maxLen):\n",
    "    shape_of_input = tf.shape(input_tensor)\n",
    "    shape_of_output = tf.concat(axis=0, values=[shape_of_input, [maxLen]])\n",
    "\n",
    "    oneDtensor = tf.reshape(input_tensor, shape=(-1,))\n",
    "    flat_mask = tf.sequence_mask(oneDtensor, maxlen=maxLen)\n",
    "    return tf.reshape(flat_mask, shape_of_output)\n",
    "\n",
    "\n",
    "def reduce_avg(reduce_target, lengths, dim):\n",
    "    \"\"\"\n",
    "    Args:\n",
    "        reduce_target : shape(d_0, d_1,..,d_dim, .., d_k)\n",
    "        lengths : shape(d0, .., d_(dim-1))\n",
    "        dim : which dimension to average, should be a python number\n",
    "    \"\"\"\n",
    "    shape_of_lengths = lengths.get_shape()\n",
    "    shape_of_target = reduce_target.get_shape()\n",
    "    if len(shape_of_lengths) != dim:\n",
    "        raise ValueError(('Second input tensor should be rank %d, ' +\n",
    "                         'while it got rank %d') % (dim, len(shape_of_lengths)))\n",
    "    if len(shape_of_target) < dim+1 :\n",
    "        raise ValueError(('First input tensor should be at least rank %d, ' +\n",
    "                         'while it got rank %d') % (dim+1, len(shape_of_target)))\n",
    "\n",
    "    rank_diff = len(shape_of_target) - len(shape_of_lengths) - 1\n",
    "    mxlen = tf.shape(reduce_target)[dim]\n",
    "    mask = mkMask(lengths, mxlen)\n",
    "    if rank_diff!=0:\n",
    "        len_shape = tf.concat(axis=0, values=[tf.shape(lengths), [1]*rank_diff])\n",
    "        mask_shape = tf.concat(axis=0, values=[tf.shape(mask), [1]*rank_diff])\n",
    "    else:\n",
    "        len_shape = tf.shape(lengths)\n",
    "        mask_shape = tf.shape(mask)\n",
    "    lengths_reshape = tf.reshape(lengths, shape=len_shape)\n",
    "    mask = tf.reshape(mask, shape=mask_shape)\n",
    "\n",
    "    mask_target = reduce_target * tf.cast(mask, dtype=reduce_target.dtype)\n",
    "\n",
    "    red_sum = tf.reduce_sum(mask_target, axis=[dim], keepdims=False)\n",
    "    red_avg = red_sum / (tf.cast(lengths_reshape, dtype=tf.float32) + 1e-30)\n",
    "    return red_avg"
   ]
  },
  {
   "cell_type": "markdown",
   "metadata": {},
   "source": [
    "# 定义loss函数，定义训练函数"
   ]
  },
  {
   "cell_type": "code",
   "execution_count": 12,
   "metadata": {},
   "outputs": [],
   "source": [
    "@tf.function\n",
    "def compute_loss(logits, labels, seqlen):\n",
    "    losses = tf.nn.sparse_softmax_cross_entropy_with_logits(\n",
    "            logits=logits, labels=labels)\n",
    "    losses = reduce_avg(losses, seqlen, dim=1)\n",
    "    return tf.reduce_mean(losses)\n",
    "\n",
    "@tf.function\n",
    "def train_one_step(model, optimizer, x, y, seqlen):\n",
    "    '''\n",
    "    完成一步优化过程，可以参考之前做过的模型\n",
    "    '''\n",
    "    with tf.GradientTape() as tape:\n",
    "        logits = model(x)\n",
    "        loss = compute_loss(logits, y, seqlen)\n",
    "    # compute gradient\n",
    "    grads = tape.gradient(loss, model.trainable_variables)\n",
    "    optimizer.apply_gradients(zip(grads, model.trainable_variables))\n",
    "    return loss\n",
    "\n",
    "def train(epoch, model, optimizer, ds):\n",
    "    loss = 0.0\n",
    "    accuracy = 0.0\n",
    "    for step, (x, y, seqlen) in enumerate(ds):\n",
    "        loss = train_one_step(model, optimizer, x, y, seqlen)\n",
    "\n",
    "        if step % 500 == 0:\n",
    "            print('epoch', epoch, ': loss', loss.numpy())\n",
    "\n",
    "    return loss"
   ]
  },
  {
   "cell_type": "markdown",
   "metadata": {},
   "source": [
    "# 训练优化过程"
   ]
  },
  {
   "cell_type": "code",
   "execution_count": 13,
   "metadata": {},
   "outputs": [
    {
     "name": "stdout",
     "output_type": "stream",
     "text": [
      "epoch 0 : loss 8.820307\n",
      "WARNING:tensorflow:5 out of the last 15 calls to <function train_one_step at 0x000001A0935F3A30> triggered tf.function retracing. Tracing is expensive and the excessive number of tracings could be due to (1) creating @tf.function repeatedly in a loop, (2) passing tensors with different shapes, (3) passing Python objects instead of tensors. For (1), please define your @tf.function outside of the loop. For (2), @tf.function has reduce_retracing=True option that can avoid unnecessary retracing. For (3), please refer to https://www.tensorflow.org/guide/function#controlling_retracing and https://www.tensorflow.org/api_docs/python/tf/function for  more details.\n",
      "WARNING:tensorflow:6 out of the last 17 calls to <function train_one_step at 0x000001A0935F3A30> triggered tf.function retracing. Tracing is expensive and the excessive number of tracings could be due to (1) creating @tf.function repeatedly in a loop, (2) passing tensors with different shapes, (3) passing Python objects instead of tensors. For (1), please define your @tf.function outside of the loop. For (2), @tf.function has reduce_retracing=True option that can avoid unnecessary retracing. For (3), please refer to https://www.tensorflow.org/guide/function#controlling_retracing and https://www.tensorflow.org/api_docs/python/tf/function for  more details.\n",
      "epoch 1 : loss 6.5707684\n",
      "epoch 2 : loss 6.1361766\n",
      "epoch 3 : loss 5.8335958\n",
      "epoch 4 : loss 5.698798\n",
      "epoch 5 : loss 5.592296\n",
      "epoch 6 : loss 5.446293\n",
      "epoch 7 : loss 5.3310547\n",
      "epoch 8 : loss 5.320868\n",
      "epoch 9 : loss 5.2660813\n"
     ]
    }
   ],
   "source": [
    "optimizer = optimizers.Adam(0.0005)\n",
    "train_ds, word2id, id2word = poem_dataset()\n",
    "model = myRNNModel(word2id)\n",
    "\n",
    "for epoch in range(10):\n",
    "    loss = train(epoch, model, optimizer, train_ds)"
   ]
  },
  {
   "cell_type": "markdown",
   "metadata": {},
   "source": [
    "# 生成过程"
   ]
  },
  {
   "cell_type": "code",
   "execution_count": 14,
   "metadata": {},
   "outputs": [
    {
     "name": "stdout",
     "output_type": "stream",
     "text": [
      "一条江上人间。eos有春风不可知，一年何处是君人。eos来不得无人事，不是人间不得人。eos有不知何处处，不知何\n",
      "eos客无人，一事无人。eos生不可，不得，君心不可知。eos来不可见，不得是君心。eos有无人事，无人不可知。eos来\n",
      "eos有玉门，一得无人。eos生不可，不得无人。eos道，一年，不得无人。eos子不知，不知何事。eos生不得，不得，此\n",
      "江风吹落花声，一片花声不可知。eos有一年无限事，不知何处是君家。eos来不得无人事，不是人间不得人。eos有不\n",
      "eos门有，山上云，一日无人。eos生不得，何事无人。eos有，此人无事，不得无人不得人。eos有不知何处处，不知何\n",
      "一条花里，一片云声。eos生不可，不知何事。eos生不可，不得，君心不可知。eos来不可见，不得是君心。eos有无人\n",
      "eos道无人，一事无人。eos生不可，不得无人。eos以，此人。eos有不可知，不知何事。eos生不得，不得，此日不可知\n",
      "月中无处处，不见一年时。eos有无人事，何人不可知。eos来无限去，不得是君人。eos有无人事，无人不可知。eos来\n",
      "一片花里，不见春风。eos生不可，不得无人。eos有，此人。eos有无人，一事无人。eos生，此人无事。eos有无事，风\n",
      "一年年日日，一人无处处。eos来不得无人事，不得人间不得人。eos有不知何处处，不知何处是君家。eos来不得无人\n",
      "君家无处，不得，此日不可知。eos来不可见，不得不相知。eos有无人事，何人不可知。eos来无限去，不得是君人。\n",
      "eos门不可见，不得不可知。eos有不可见，何人不可知。eos来无限去，不得是君人。eos有无人事，无人不可知。eos来\n",
      "君人不得，何处不知来。eos有不知此，何人不可知。eos来无限去，不得是君人。eos有无人事，无人不可知。eos来无\n",
      "eos有人，一得何。eos有人，一得无。eos子不知人，一年无处处。eos来不得人，此日不相思。eos有不可见，不知何处\n",
      "eos人无事，一得无事。eos道不可，不得，君心不可知。eos来不可见，不得是君心。eos有无人事，无人不可知。eos来\n",
      "一条一片，一处无人。eos去不知何处，何处不知人。eos来不得人，此日不相思。eos有不可见，不知无所思。eos来不\n",
      "eos得不知君不得，不知何处是君人。eos来不得无人事，不是人间不得人。eos有不知何处处，不知何处是君家。eos来\n",
      "eos子不知君，君人不可知。eos来无限去，不得是君人。eos有无人事，无人不可知。eos来无限去，不得是君人。eos有\n",
      "一里无人去，不见人间去。eos有不知君，不知无事事。eos来无所见，不得无人事。eos有不可知，此来无处处。eos来\n",
      "一年年，一年何处处。eos有一年人不见，不知何处是君家。eos来不得无人事，不是人间不得人。eos有不知何处处，\n",
      "eos来无处，不得，此日不可知。eos来不可见，不得不相知。eos有无人事，无人不可知。eos来无限去，不得是君人。\n",
      "eos道无人事，何人不可知。eos来无限去，不得是君人。eos有无人事，无人不可知。eos来无限去，不得是君人。eos有\n",
      "一条春雨落，江水月中秋。eos有无人事，无人不可知。eos来无限去，不得是君人。eos有无人事，无人不可知。eos来\n",
      "eos门无限处，不得一年人。eos去无人事，何人不可知。eos来无限去，不得是君人。eos有无人事，无人不可知。eos来\n",
      "江南山上一回头。eos有一条无限处，不知何处是君家。eos来不得无人事，不是人间不得人。eos有不知何处处，不知\n",
      "一年无限去，不得不相思。eos有不可见，不知无所思。eos来不可见，不得不相思。eos有不可见，不知何处人。eos来\n",
      "江水不知君不见，不知何处是君家。eos来不得无人事，不是人间不得人。eos有不知何处处，不知何处是君家。eos来\n",
      "一条一片花，一枝一片月。eos来不可见，不得一相思。eos有不可见，不知无所思。eos来不可见，不得不相思。eos有\n",
      "eos门不可见，山上一年时。eos有无人事，何人不可知。eos来无限去，不得是君人。eos有无人事，无人不可知。eos来\n",
      "一条花上水，一片水中春。eos有无人事，何人不可知。eos来无限去，不得是君人。eos有无人事，无人不可知。eos来\n",
      "一日无人，一日无人。eos生无事，不得无人。eos以，此人。eos有不可知，不知何事。eos生不得，不得，此日不可知\n",
      "一里无人事，何人不可知。eos来无限去，不得是君人。eos有无人事，无人不可知。eos来无限去，不得是君人。eos有\n",
      "一枝无处处人回。eos来不得无人事，不是人间不得人。eos有不知何处处，不知何处是君家。eos来不得无人事，不是\n",
      "江水月，一声无处。eos生无事，风吹不可知。eos生不可见，不得是君心。eos有无人事，无人不可知。eos来无限去，\n",
      "风风不见人，一声无处处。eos来不得人，不得不相思。eos有不可见，不知无所思。eos来不可见，不得不相思。eos有\n",
      "江南月上无人去，不是人间不得人。eos有不知何处处，不知何处是君家。eos来不得无人事，不是人间不得人。eos有\n",
      "eos子无事，不得不知。eos有，君人不得，不知何处不知君。eos来不得无人事，不是人间不得人。eos有不知何处处，\n",
      "君子不知君，不知何处处。eos来不可见，此日不可知。eos来不可见，不得不相思。eos有不可见，不知何处人。eos来\n",
      "eos君不得不相思，不得人间不得人。eos有不知何处处，不知何处是君家。eos来不得无人事，不是人间不得人。eos有\n",
      "eos年年，一时无处处。eos来不得无人事，不得人间不得人。eos有不知何处处，不知何处是君家。eos来不得无人事，\n",
      "一得人间事，何人不可知。eos来无限去，不得是君人。eos有无人事，无人不可知。eos来无限去，不得是君人。eos有\n",
      "一片月上云。eos有无人事，何人不可知。eos来无限去，不得是君人。eos有无人事，无人不可知。eos来无限去，不得\n",
      "eos门上，君为此，不得无人。eos生不得，不得，此日不可知。eos来不可见，不得不相知。eos有无人事，何人不可知\n",
      "eos君不得，无事不知。eos道，君心不得，不得无人不得人。eos有不知何处处，不知何处是君家。eos来不得无人事，\n",
      "江南山上春，一年春月不知来。eos来不得无人事，不是人间不得人。eos有不知何处处，不知何处是君家。eos来不得\n",
      "eos门无处，一声不见。eos道，此人无事，不得无人不得。eos有不知何处处，一声犹是一年年。eos来不得无人事，不\n",
      "一条春雨，风雨，风吹落，一日无人。eos生不得，何事无人。eos有，此人。eos有无人，一事无人。eos道，此人。eos\n",
      "一得一年。eos子无人，一得无人。eos道，此人。eos道不可见，不知何处人。eos来无限客，不得是君人。eos有无人事\n",
      "eos君不得无人事，不得人间不得人。eos有不知何处处，不知何处是君家。eos来不得无人事，不是人间不得人。eos有\n",
      "，君子无事，不知不得人。eos来无处处，不得一年年。eos有无人事，无人不可知。eos来无限去，不得是君人。eos有\n",
      "江水不堪归。eos有无人事，何人不可知。eos来无限去，不得是君人。eos有无人事，无人不可知。eos来无限去，不得\n"
     ]
    }
   ],
   "source": [
    "def gen_sentence():\n",
    "    state = [tf.random.normal(shape=(1, 128), stddev=0.5), tf.random.normal(shape=(1, 128), stddev=0.5)]\n",
    "    cur_token = tf.constant([word2id['bos']], dtype=tf.int32)\n",
    "    collect = []\n",
    "    for _ in range(50):\n",
    "        cur_token, state = model.get_next_token(cur_token, state)\n",
    "        collect.append(cur_token.numpy()[0])\n",
    "    return [id2word[t] for t in collect]\n",
    "print(''.join(gen_sentence()))\n",
    "\n",
    "'''\n",
    "诗歌生成代码\n",
    "'''\n",
    "for _ in range(50):\n",
    "    print(''.join(gen_sentence()))"
   ]
  },
  {
   "cell_type": "code",
   "execution_count": null,
   "metadata": {},
   "outputs": [],
   "source": []
  },
  {
   "cell_type": "code",
   "execution_count": null,
   "metadata": {},
   "outputs": [],
   "source": []
  }
 ],
 "metadata": {
  "anaconda-cloud": {},
  "kernelspec": {
   "display_name": "Python 3",
   "language": "python",
   "name": "python3"
  },
  "language_info": {
   "codemirror_mode": {
    "name": "ipython",
    "version": 3
   },
   "file_extension": ".py",
   "mimetype": "text/x-python",
   "name": "python",
   "nbconvert_exporter": "python",
   "pygments_lexer": "ipython3",
   "version": "3.10.15"
  }
 },
 "nbformat": 4,
 "nbformat_minor": 1
}
